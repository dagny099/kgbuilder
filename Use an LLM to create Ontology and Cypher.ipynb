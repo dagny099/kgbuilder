{
 "cells": [
  {
   "cell_type": "code",
   "execution_count": null,
   "id": "e901da04",
   "metadata": {},
   "outputs": [],
   "source": []
  },
  {
   "cell_type": "code",
   "execution_count": 8,
   "id": "f29a8422",
   "metadata": {},
   "outputs": [],
   "source": [
    "from neo4j import GraphDatabase\n",
    "\n",
    "# Define the Neo4j database connection class\n",
    "class Neo4jConnection:\n",
    "\n",
    "    def __init__(self, uri, user, password):\n",
    "        self._driver = GraphDatabase.driver(uri, auth=(user, password))\n",
    "\n",
    "    def close(self):\n",
    "        self._driver.close()\n",
    "\n",
    "    def run_cypher(self, cypher_query):\n",
    "        with self._driver.session() as session:\n",
    "            result = session.run(cypher_query)\n",
    "            return result.data()  # Fetch all results\n"
   ]
  },
  {
   "cell_type": "code",
   "execution_count": 27,
   "id": "962861d5",
   "metadata": {},
   "outputs": [],
   "source": [
    "import os\n",
    "from utils import getNLOntology\n",
    "from openai import OpenAI\n",
    "from rdflib import Graph\n",
    "\n",
    "####### STEP1: GET THE UNSTRUCTURED CONTENT #########################\n",
    "\n",
    "# for each of the files in the 'content' directory\n",
    "with open('content/hockney-mr-and-mrs-clark-and-percy.txt', 'r') as file:\n",
    "    content = file.read().replace('\\n', '')\n",
    "\n",
    "# cnt, content = 0, []\n",
    "# for f in os.listdir('content'):\n",
    "#     print(f)\n",
    "    \n",
    "#     with open(f'content/{f}', 'r') as file:\n",
    "#         content = file.read().replace('\\n', '')\n",
    "#     cnt+=1\n"
   ]
  },
  {
   "cell_type": "code",
   "execution_count": 14,
   "id": "0b95d39c",
   "metadata": {},
   "outputs": [],
   "source": [
    "####### STEP2: GET THE ONTOLOGY #####################################\n",
    "g = Graph()\n",
    "g.parse(\"art.ttl\")\n",
    "\n",
    "# OPTION 1 : Ontology in standard serialisation\n",
    "ontology = g.serialize(format=\"ttl\")\n",
    "\n",
    "# OPTION 2 : Natural language description of the ontology\n",
    "ontology = getNLOntology(g)"
   ]
  },
  {
   "cell_type": "code",
   "execution_count": 23,
   "id": "3106fe76",
   "metadata": {
    "scrolled": true
   },
   "outputs": [
    {
     "name": "stdout",
     "output_type": "stream",
     "text": [
      "Given the ontology below run your best entity extraction over the content.\n",
      " The extracted entities and relationships must be described using exclusively the terms in the ontology \n",
      " and in the way they are defined. This means that for attributes and relationships you will respect the domain and range constraints.\n",
      " You will never use terms not defined in the ontology. \n",
      "Return the output as Cypher using merge to allow for linkage of nodes from multiple passes. \n",
      "Absolutely no comments on the output. Just the structured output. \n",
      "\n",
      "ONTOLOGY: \n",
      " \n",
      "CATEGORIES:\n",
      "Artist: a creator of artworks\n",
      "Artwork: an artistic creation\n",
      "Person:\n",
      "\n",
      "ATTRIBUTES:\n",
      "artworkKnownAs: Attribute that applies to entities of type Artwork. It represents represent the title or an identifying description of the artwork\n",
      "professionalName: Attribute that applies to entities of type Artist. It represents the name used to refer to an artist. May not always match their real name, can be a pseudonym.\n",
      "\n",
      "RELATIONSHIPS:\n",
      "influences: Relationship that connects entities of type Artist to entities of type Artist. It represents connects an Artist to another Artist indicating that the former is an artistic influence to the later\n",
      "represents: Relationship that connects entities of type Artwork to entities of type Person. It represents connects an Artwork with something depicted in it\n",
      "was_created_by: Relationship that connects entities of type Artwork to entities of type Artist. It represents connects an Artwork to the Artist that is its author\n",
      "worksWith: Relationship that connects entities of type Person to entities of type Person. It represents represents some form of profesional relationship between two Persons\n",
      "\n",
      "\n",
      "CONTENT: \n",
      " This is one of numerous portraits of Celia Birtwell with which Hockney has celebrated his close friendship with the designer over the years. Celia first met Hockney in Los Angeles in 1964. She is most famously represented in Hockney's large double portrait Mr and Mrs Clark and Percy, 1970-1 (Tate Gallery T01269). With her husband Ossie Clark she was at the top of the fashion industry in London in the 'Swinging Sixties'. Clark designed clothes using Birtwell's textile designs, and sold them from the shop Quorum in Chelsea's King's Road.Made at a time when Hockney was experimenting with composite photographs, this complex, forty-two colour lithograph contains multiple representations of the sitter in an armchair and uses the strong primary colours which are typical of the artist's work of this period. For one of the two representations of Celia's face Hockney uses an image taken from his portrait of Celia made for the cover of the December 1985 - January 1986 issue of French Vogue. The second head is taken from the lithograph Red Celia, 1984 (Tate Gallery P20109). An Image of Celia is one of several prints in which the influence of Picasso on Hockney's art is explicit.Further reading:Nikos Stangos (ed.), David Hockney by David Hockney, London 1976David Hockney: A Retrospective, exhibition catalogue, Los Angeles County Museum of Art, Los Angeles 1988, pp.50-1, reproduced in colourMarco Livingstone, David Hockney: Etchings and Lithographs, exhibition catalogue, Waddington Graphics, London 1988, reproduced pl.92 in colourTerry RiggsNovember 1997\n"
     ]
    }
   ],
   "source": [
    "####### STEP3: PROMPT THE LLM ####################################### \n",
    "\n",
    "client = OpenAI(\n",
    "    # This is the default and can be omitted\n",
    "    api_key=os.environ.get(\"OPENAI_API_KEY\"),\n",
    ")\n",
    "\n",
    "system = (\n",
    "    \"You are an expert in extracting structured information out of natural language text. \"\n",
    "    \"You extract entities with their attributes and relationships between entities. \"\n",
    "    \"You can produce the output as RDF triples or as Cypher write statements on request. \"      \n",
    ")\n",
    "\n",
    "prompt = '''Given the ontology below run your best entity extraction over the content.\n",
    " The extracted entities and relationships must be described using exclusively the terms in the ontology \n",
    " and in the way they are defined. This means that for attributes and relationships you will respect the domain and range constraints.\n",
    " You will never use terms not defined in the ontology. \n",
    "Return the output as Cypher using merge to allow for linkage of nodes from multiple passes. \n",
    "Absolutely no comments on the output. Just the structured output. ''' + '\\n\\nONTOLOGY: \\n ' + ontology + '\\n\\nCONTENT: \\n ' + content \n",
    "\n",
    "# if you want to inspect...\n",
    "print(prompt)"
   ]
  },
  {
   "cell_type": "code",
   "execution_count": 24,
   "id": "c4ae1b94",
   "metadata": {},
   "outputs": [],
   "source": [
    "chat_completion = client.chat.completions.create(\n",
    "    messages=[\n",
    "        {\n",
    "          'role': 'system',\n",
    "          'content': system,\n",
    "        },\n",
    "        {\n",
    "          'role': 'user',\n",
    "          'content': prompt ,\n",
    "        }\n",
    "          ],\n",
    "    model=\"gpt-4o\",\n",
    ")\n",
    "\n",
    "cypher_script = chat_completion.choices[0].message.content[3:-3]"
   ]
  },
  {
   "cell_type": "code",
   "execution_count": 25,
   "id": "0d725a7b",
   "metadata": {},
   "outputs": [
    {
     "name": "stdout",
     "output_type": "stream",
     "text": [
      "cypher\n",
      "MERGE (artist1:Artist {professionalName: \"David Hockney\"})\n",
      "MERGE (artist2:Artist {professionalName: \"Pablo Picasso\"})\n",
      "MERGE (artwork1:Artwork {artworkKnownAs: \"Mr and Mrs Clark and Percy\"})\n",
      "MERGE (artwork2:Artwork {artworkKnownAs: \"Red Celia\"})\n",
      "MERGE (artwork3:Artwork {artworkKnownAs: \"An Image of Celia\"})\n",
      "MERGE (person1:Person {name: \"Celia Birtwell\"})\n",
      "MERGE (person2:Person {name: \"Ossie Clark\"})\n",
      "\n",
      "MERGE (artwork1)-[:was_created_by]->(artist1)\n",
      "MERGE (artwork2)-[:was_created_by]->(artist1)\n",
      "MERGE (artwork3)-[:was_created_by]->(artist1)\n",
      "\n",
      "MERGE (artwork1)-[:represents]->(person1)\n",
      "MERGE (artwork3)-[:represents]->(person1)\n",
      "\n",
      "MERGE (artist1)-[:influences]->(artist2)\n",
      "\n",
      "MERGE (person1)-[:worksWith]->(person2)\n",
      "\n"
     ]
    }
   ],
   "source": [
    "# The Cypher generated by the LLM \n",
    "print(cypher_script)\n"
   ]
  },
  {
   "cell_type": "code",
   "execution_count": 28,
   "id": "f4717c2a",
   "metadata": {},
   "outputs": [],
   "source": [
    "####### STEP4: WRITE CONTENT TO THE DB ##############################\n",
    "\n",
    "uri =  \"neo4j+s://c3c99623.databases.neo4j.io\"     # \"bolt://localhost:7687\"\n",
    "user = \"neo4j\"  \n",
    "password = \"yM-voy_2oCE0cpYaTFr6VrmF-H3YnCREd22KjGijxUk\"  \n",
    "conn = Neo4jConnection(uri, user, password)\n"
   ]
  },
  {
   "cell_type": "code",
   "execution_count": 29,
   "id": "9f11be5c",
   "metadata": {},
   "outputs": [],
   "source": [
    "# Run the Cypher script and get the results\n",
    "result = conn.run_cypher(cypher_script)\n",
    "\n",
    "# Close the connection\n",
    "conn.close()"
   ]
  }
 ],
 "metadata": {
  "kernelspec": {
   "display_name": "Python 3 (ipykernel)",
   "language": "python",
   "name": "python3"
  },
  "language_info": {
   "codemirror_mode": {
    "name": "ipython",
    "version": 3
   },
   "file_extension": ".py",
   "mimetype": "text/x-python",
   "name": "python",
   "nbconvert_exporter": "python",
   "pygments_lexer": "ipython3",
   "version": "3.11.3"
  },
  "toc": {
   "base_numbering": 1,
   "nav_menu": {},
   "number_sections": true,
   "sideBar": true,
   "skip_h1_title": false,
   "title_cell": "Table of Contents",
   "title_sidebar": "Contents",
   "toc_cell": false,
   "toc_position": {},
   "toc_section_display": true,
   "toc_window_display": false
  }
 },
 "nbformat": 4,
 "nbformat_minor": 5
}
